{
 "cells": [
  {
   "cell_type": "code",
   "execution_count": 8,
   "metadata": {},
   "outputs": [
    {
     "name": "stdout",
     "output_type": "stream",
     "text": [
      "Accuracy: 76.61%\n",
      "Updated data saved to: /Users/jongg21/Desktop/LEAN/Z3-Solver/mmlupro_updated.json\n"
     ]
    }
   ],
   "source": [
    "import json\n",
    "import re\n",
    "import os\n",
    "\n",
    "def fix_json(json_string):\n",
    "    json_string = json_string.strip()\n",
    "    if not json_string.startswith('['):\n",
    "        json_string = '[' + json_string\n",
    "    if not json_string.endswith(']'):\n",
    "        json_string = json_string + ']'\n",
    "    json_string = re.sub(r'(\"(?:[^\"\\\\]|\\\\.)*\")', lambda m: m.group(1).replace('\\n', '\\\\n'), json_string)\n",
    "    json_string = re.sub(r',\\s*([}\\]])', r'\\1', json_string)\n",
    "    return json_string\n",
    "\n",
    "def extract_final_answer(gpt_result):\n",
    "    match = re.search(r'Final Answer:\\s*([A-J])', gpt_result)\n",
    "    return match.group(1) if match else None\n",
    "\n",
    "def process_json_file(file_path):\n",
    "    with open(file_path, 'r', encoding='utf-8') as file:\n",
    "        content = file.read()\n",
    "    \n",
    "    fixed_content = fix_json(content)\n",
    "    \n",
    "    try:\n",
    "        data = json.loads(fixed_content)\n",
    "    except json.JSONDecodeError as e:\n",
    "        print(f\"Error decoding JSON: {e}\")\n",
    "        return None, 0\n",
    "    \n",
    "    correct_count = 0\n",
    "    total_count = 0\n",
    "    \n",
    "    for item in data:\n",
    "        gpt_result = item.get('gpt_result', '')\n",
    "        correct_answer = item.get('correct_answer', '')\n",
    "        \n",
    "        extracted_answer = extract_final_answer(gpt_result)\n",
    "        \n",
    "        if extracted_answer:\n",
    "            item['final_answer'] = ord(extracted_answer) - ord('A')\n",
    "            item['is_correct'] = (extracted_answer == correct_answer)\n",
    "            if item['is_correct']:\n",
    "                correct_count += 1\n",
    "        else:\n",
    "            item['final_answer'] = -1\n",
    "            item['is_correct'] = False\n",
    "        \n",
    "        total_count += 1\n",
    "    \n",
    "    accuracy = correct_count / total_count if total_count > 0 else 0\n",
    "    \n",
    "    return data, accuracy\n",
    "\n",
    "# Process the file\n",
    "file_path = '/Users/jongg21/Desktop/LEAN/Z3-Solver/mmlupro.json'\n",
    "processed_data, accuracy = process_json_file(file_path)\n",
    "\n",
    "if processed_data:\n",
    "    # Print the results\n",
    "    print(f\"Accuracy: {accuracy:.2%}\")\n",
    "\n",
    "    # Save the processed data to a new JSON file with \"_updated\" appended\n",
    "    file_name, file_extension = os.path.splitext(file_path)\n",
    "    new_file_path = f\"{file_name}_updated{file_extension}\"\n",
    "    with open(new_file_path, 'w', encoding='utf-8') as file:\n",
    "        json.dump(processed_data, file, indent=2)\n",
    "    print(f\"Updated data saved to: {new_file_path}\")\n",
    "else:\n",
    "    print(\"Failed to process the JSON file.\")"
   ]
  },
  {
   "cell_type": "code",
   "execution_count": null,
   "metadata": {},
   "outputs": [],
   "source": []
  }
 ],
 "metadata": {
  "kernelspec": {
   "display_name": "LEAN",
   "language": "python",
   "name": "python3"
  },
  "language_info": {
   "codemirror_mode": {
    "name": "ipython",
    "version": 3
   },
   "file_extension": ".py",
   "mimetype": "text/x-python",
   "name": "python",
   "nbconvert_exporter": "python",
   "pygments_lexer": "ipython3",
   "version": "3.11.9"
  }
 },
 "nbformat": 4,
 "nbformat_minor": 2
}
