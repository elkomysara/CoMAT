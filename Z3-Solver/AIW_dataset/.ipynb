{
 "cells": [
  {
   "cell_type": "code",
   "execution_count": 3,
   "metadata": {},
   "outputs": [
    {
     "name": "stdout",
     "output_type": "stream",
     "text": [
      "AIW+ Accuracy: 0.00%\n",
      "Number of AIW+ entries: 9\n",
      "Prompt: Alice has 3 sisters. Her mother has 1 sister who does not have children - she has 7 nephews and nieces and also 2 brothers. Alice's father has a brother who has 5 nephews and nieces in total, and who has also 1 son. How many cousins does Alice's sister have? Solve this problem and provide the final answer in following form: \"### Answer: \".\n",
      "Correct: False\n",
      "Description: AIW+ EXPERIMENTAL, STANDARD, no bias in responses, no restriction in output length\n",
      "---\n",
      "Prompt: Alice has 3 sisters. Her mother has 1 sister who does not have children - she has 7 nephews and nieces and also 2 brothers. Alice's father has a brother who has 5 nephews and nieces in total, and who has also 1 son. How many cousins does Alice's sister have? Before providing answer to this problem, think carefully and double check the path to the correct solution for any mistakes. Provide then the final answer in following form: \"### Answer: \".\n",
      "Correct: False\n",
      "Description: AIW+ EXPERIMENTAL, THINKING, no bias in responses, no restriction in output length, encouraging longer output by thinking.\n",
      "---\n",
      "Prompt: Alice has 3 sisters. Her mother has 1 sister who does not have children - she has 7 nephews and nieces and also 2 brothers. Alice's father has a brother who has 5 nephews and nieces in total, and who has also 1 son. How many cousins does Alice's sister have? To answer the question, DO NOT OUTPUT ANY TEXT EXCEPT following format that contains final answer: \"### Answer: \".\n",
      "Correct: False\n",
      "Description: AIW+ EXPERIMENTAL, RESTRICTED, restriction in output length.\n",
      "---\n",
      "Prompt: Alice has 2 sisters. Her mother has 1 sister who does not have children and who has 6 nephews and nieces and also 2 brothers. Alice's father has a brother who has 5 nephews and nieces in total, and who also has 2 daughters. How many cousins does Alice's sister have? Solve this problem and provide the final answer in following form: \"### Answer: \".\n",
      "Correct: False\n",
      "Description: AIW+ VARIATION 2 EXPERIMENTAL, STANDARD, no bias in responses, no restriction in output length\n",
      "---\n",
      "Prompt: Alice has 2 sisters. Her mother has 1 sister who does not have children and who has 6 nephews and nieces and also 2 brothers. Alice's father has a brother who has 5 nephews and nieces in total, and who also has 2 daughters. How many cousins does Alice's sister have? Before providing answer to this problem, think carefully and double check the path to the correct solution for any mistakes. Provide then the final answer in following form: \"### Answer: \".\n",
      "Correct: False\n",
      "Description: AIW+ VARIATION 2 EXPERIMENTAL, THINKING, no bias in responses, no restriction in output length, encouraging longer output by thinking.\n",
      "---\n",
      "Prompt: Alice has 2 sisters. Her mother has 1 sister who does not have children and who has 6 nephews and nieces and also 2 brothers. Alice's father has a brother who has 5 nephews and nieces in total, and who also has 2 daughters. How many cousins does Alice's sister have? To answer the question, DO NOT OUTPUT ANY TEXT EXCEPT following format that contains final answer: \"### Answer: \".\n",
      "Correct: False\n",
      "Description: AIW+ VARIATION 2 EXPERIMENTAL, RESTRICTED, restriction in output length.\n",
      "---\n",
      "Prompt: Alice has 3 sisters. Her mother has 1 sister who does not have children and who has 6 nephews and nieces and also 2 brothers. Alice's father has a brother who has 4 nephews and nieces in total, and who also has 1 son. How many cousins does Alice's sister have? Solve this problem and provide the final answer in following form: \"### Answer: \".\n",
      "Correct: False\n",
      "Description: AIW+ VARIATION 3 EXPERIMENTAL, STANDARD, no bias in responses, no restriction in output length\n",
      "---\n",
      "Prompt: Alice has 3 sisters. Her mother has 1 sister who does not have children and who has 6 nephews and nieces and also 2 brothers. Alice's father has a brother who has 4 nephews and nieces in total, and who also has 1 son. How many cousins does Alice's sister have? Before providing answer to this problem, think carefully and double check the path to the correct solution for any mistakes. Provide then the final answer in following form: \"### Answer: \".\n",
      "Correct: False\n",
      "Description: AIW+ VARIATION 3 EXPERIMENTAL, THINKING, no bias in responses, no restriction in output length, encouraging longer output by thinking.\n",
      "---\n",
      "Prompt: Alice has 3 sisters. Her mother has 1 sister who does not have children and who has 6 nephews and nieces and also 2 brothers. Alice's father has a brother who has 4 nephews and nieces in total, and who also has 1 son. How many cousins does Alice's sister have? To answer the question, DO NOT OUTPUT ANY TEXT EXCEPT following format that contains final answer: \"### Answer: \".\n",
      "Correct: False\n",
      "Description: AIW+ VARIATION 3 EXPERIMENTAL, RESTRICTED, restriction in output length.\n",
      "---\n"
     ]
    }
   ],
   "source": [
    "import json\n",
    "\n",
    "with open('/Users/jongg21/Desktop/LEAN/Z3-Solver/AIW_v1.json', 'r') as f:\n",
    "    document_content = f.read()\n",
    "\n",
    "def calculate_aiw_plus_accuracy(data):\n",
    "    aiw_plus_entries = [entry for entry in data if 'AIW+' in entry['description']]\n",
    "    \n",
    "    correct_count = sum(1 for entry in aiw_plus_entries if entry['is_correct'])\n",
    "    total_count = len(aiw_plus_entries)\n",
    "    \n",
    "    accuracy = correct_count / total_count if total_count > 0 else 0\n",
    "    \n",
    "    return accuracy, aiw_plus_entries\n",
    "\n",
    "# Assuming the JSON data is stored in a variable called 'json_data'\n",
    "json_data = json.loads(document_content)\n",
    "\n",
    "accuracy, aiw_plus_entries = calculate_aiw_plus_accuracy(json_data)\n",
    "\n",
    "print(f\"AIW+ Accuracy: {accuracy:.2%}\")\n",
    "print(f\"Number of AIW+ entries: {len(aiw_plus_entries)}\")\n",
    "\n",
    "# If you want to see the AIW+ entries:\n",
    "for entry in aiw_plus_entries:\n",
    "    print(f\"Prompt: {entry['prompt']}\")\n",
    "    print(f\"Correct: {entry['is_correct']}\")\n",
    "    print(f\"Description: {entry['description']}\")\n",
    "    print(\"---\")"
   ]
  },
  {
   "cell_type": "code",
   "execution_count": null,
   "metadata": {},
   "outputs": [],
   "source": []
  }
 ],
 "metadata": {
  "kernelspec": {
   "display_name": "Python 3",
   "language": "python",
   "name": "python3"
  },
  "language_info": {
   "codemirror_mode": {
    "name": "ipython",
    "version": 3
   },
   "file_extension": ".py",
   "mimetype": "text/x-python",
   "name": "python",
   "nbconvert_exporter": "python",
   "pygments_lexer": "ipython3",
   "version": "3.9.6"
  }
 },
 "nbformat": 4,
 "nbformat_minor": 2
}
